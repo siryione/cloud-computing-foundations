{
  "cells": [
    {
      "cell_type": "markdown",
      "metadata": {
        "id": "view-in-github",
        "colab_type": "text"
      },
      "source": [
        "<a href=\"https://colab.research.google.com/github/siryione/cloud-computing-foundations/blob/main/Practice_Markdown_with_colab.ipynb\" target=\"_parent\"><img src=\"https://colab.research.google.com/assets/colab-badge.svg\" alt=\"Open In Colab\"/></a>"
      ]
    },
    {
      "cell_type": "markdown",
      "metadata": {
        "id": "1mHgFyVxII5o"
      },
      "source": [
        "## Practice Markdown"
      ]
    },
    {
      "cell_type": "markdown",
      "metadata": {
        "id": "ZAjUO0nmII5r"
      },
      "source": [
        "This notebook lets you experiment with producing repeatable technical documentation.  Use this notebook to do the following actions:\n",
        "\n",
        "* Create a code cell and print a Python Hello World statement:  `print(\"hello world\")`\n",
        "* Create a Markdown Cell and add a Title using `#` and then a statement using plain text.  You can looks at the source code for this cell to get an idea of how to use Markdown.\n",
        "* Take some ideas from the [Master Markdown Github Guide](https://guides.github.com/features/mastering-markdown/) and implement them here.\n",
        "* Download this notebook as a `.ipynb` file and check into a Github Project.  You can [see an example here](https://github.com/noahgift/duke-coursera-ccf-lab1/blob/main/Practice-Markdown.ipynb).\n",
        "* Open your notebook in Google Colab and save it into the same Github Project.  You can [see an example here](https://github.com/noahgift/duke-coursera-ccf-lab1/blob/main/Practice_Markdown_with_colab.ipynb).\n"
      ]
    },
    {
      "cell_type": "code",
      "execution_count": null,
      "metadata": {
        "id": "UnIRnValII5s",
        "outputId": "08f7f14b-7992-4245-e1aa-653a24082be7"
      },
      "outputs": [
        {
          "name": "stdout",
          "output_type": "stream",
          "text": [
            "hello world\n"
          ]
        }
      ],
      "source": [
        "print(\"hello world\")"
      ]
    },
    {
      "cell_type": "markdown",
      "metadata": {
        "id": "FjjYOsMnII5u"
      },
      "source": [
        "# The largest Markdown heading for this lab"
      ]
    },
    {
      "cell_type": "markdown",
      "metadata": {
        "id": "1ZlpSWG2II5v"
      },
      "source": [
        "## Print()\n",
        "```python\n",
        "print(*objects, sep=' ', end='\\n', file=None, flush=False)\n",
        "```\n",
        "Print objects to the text stream file, separated by `sep` and followed by `end`. `sep`, `end`, `file`, and `flush`, if present, *must* be given as keyword arguments.\n",
        "\n",
        "All non-keyword arguments are converted to strings like [str()](https://docs.python.org/3/library/stdtypes.html#str) does and written to the stream, separated by `sep` and followed by `end`. Both `sep` and `end` *must* be strings; they can also be `None`, which means to use the default values. If no objects are given, [print()](https://docs.python.org/3/library/functions.html#print) will just write `end`.\n",
        "\n",
        "The file argument *must* be an object with a `write(string)` method; if it is not present or `None`, [sys.stdout](https://docs.python.org/3/library/sys.html#sys.stdout) will be used. Since printed arguments are converted to text strings, [print()](https://docs.python.org/3/library/functions.html#print) cannot be used with binary mode file objects. For these, use `file.write(...)` instead.\n",
        "\n",
        "Whether the output is buffered is usually determined by `file`, but if the `flush` keyword argument is `true`, the stream is *forcibly* flushed.\n",
        "\n",
        "*Changed in version 3.3: Added the flush keyword argument.*"
      ]
    },
    {
      "cell_type": "markdown",
      "metadata": {
        "id": "yMDteXPlII5v"
      },
      "source": []
    }
  ],
  "metadata": {
    "kernelspec": {
      "display_name": "Python 3",
      "language": "python",
      "name": "python3"
    },
    "language_info": {
      "codemirror_mode": {
        "name": "ipython",
        "version": 3
      },
      "file_extension": ".py",
      "mimetype": "text/x-python",
      "name": "python",
      "nbconvert_exporter": "python",
      "pygments_lexer": "ipython3",
      "version": "3.7.6"
    },
    "colab": {
      "provenance": [],
      "include_colab_link": true
    }
  },
  "nbformat": 4,
  "nbformat_minor": 0
}